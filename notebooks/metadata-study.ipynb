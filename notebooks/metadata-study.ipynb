{
 "cells": [
  {
   "cell_type": "code",
   "execution_count": null,
   "metadata": {},
   "outputs": [],
   "source": [
    "import os\n",
    "import os.path as osp\n",
    "import pandas as pd\n",
    "from pyarrow import parquet as pq\n",
    "import numpy as np\n",
    "from tqdm import tqdm\n",
    "import matplotlib.pyplot as plt\n",
    "import seaborn as sns\n",
    "import numpy as np"
   ]
  },
  {
   "cell_type": "markdown",
   "metadata": {},
   "source": [
    "## Trying to get some sense out of the metadata"
   ]
  },
  {
   "cell_type": "markdown",
   "metadata": {},
   "source": [
    "Opening one random target file in the folder. The metadata is very messy:\n",
    "\n",
    "Each table is stored in a Parquet file which can be processed by different data processing libraries like Pandas, Spark, and Pyarrow. \n",
    "\n",
    "Each Parquet file consists of the table itself and its metadata, consisting of:\n",
    "    \n",
    "    URL to the original CSV file,\n",
    "    License of the associated repository,\n",
    "    Table ID,\n",
    "    Table dimensions,\n",
    "    Data types inferred with Pandas,\n",
    "    Column annotations from different annotation methods and ontologies,\n",
    "    Table topic annotation derived from column annotations.\n",
    "\n",
    "\n",
    "We'll have to take the annotations into consideration when we try to use these tables. \n",
    "\n",
    "Overall, I conducted a random, cursory search on the tables, opening a bunch of \n",
    "them out of curiosity. Tables are very loosely connected to each other by archive, \n",
    "the content is unformatted, contains a bunch of mixed data (numerical columns, \n",
    "categorical columns, text columns, IDs, lists...). The metadata is similarly \n",
    "messy. "
   ]
  },
  {
   "cell_type": "code",
   "execution_count": null,
   "metadata": {},
   "outputs": [
    {
     "ename": "AttributeError",
     "evalue": "'DataFrame' object has no attribute 'schema'",
     "output_type": "error",
     "traceback": [
      "\u001b[0;31m---------------------------------------------------------------------------\u001b[0m\n",
      "\u001b[0;31mAttributeError\u001b[0m                            Traceback (most recent call last)\n",
      "Cell \u001b[0;32mIn [49], line 1\u001b[0m\n",
      "\u001b[0;32m----> 1\u001b[0m table\u001b[39m.\u001b[39;49mschema\n",
      "\n",
      "File \u001b[0;32m~/mambaforge/lib/python3.10/site-packages/pandas/core/generic.py:5902\u001b[0m, in \u001b[0;36mNDFrame.__getattr__\u001b[0;34m(self, name)\u001b[0m\n",
      "\u001b[1;32m   5895\u001b[0m \u001b[39mif\u001b[39;00m (\n",
      "\u001b[1;32m   5896\u001b[0m     name \u001b[39mnot\u001b[39;00m \u001b[39min\u001b[39;00m \u001b[39mself\u001b[39m\u001b[39m.\u001b[39m_internal_names_set\n",
      "\u001b[1;32m   5897\u001b[0m     \u001b[39mand\u001b[39;00m name \u001b[39mnot\u001b[39;00m \u001b[39min\u001b[39;00m \u001b[39mself\u001b[39m\u001b[39m.\u001b[39m_metadata\n",
      "\u001b[1;32m   5898\u001b[0m     \u001b[39mand\u001b[39;00m name \u001b[39mnot\u001b[39;00m \u001b[39min\u001b[39;00m \u001b[39mself\u001b[39m\u001b[39m.\u001b[39m_accessors\n",
      "\u001b[1;32m   5899\u001b[0m     \u001b[39mand\u001b[39;00m \u001b[39mself\u001b[39m\u001b[39m.\u001b[39m_info_axis\u001b[39m.\u001b[39m_can_hold_identifiers_and_holds_name(name)\n",
      "\u001b[1;32m   5900\u001b[0m ):\n",
      "\u001b[1;32m   5901\u001b[0m     \u001b[39mreturn\u001b[39;00m \u001b[39mself\u001b[39m[name]\n",
      "\u001b[0;32m-> 5902\u001b[0m \u001b[39mreturn\u001b[39;00m \u001b[39mobject\u001b[39;49m\u001b[39m.\u001b[39;49m\u001b[39m__getattribute__\u001b[39;49m(\u001b[39mself\u001b[39;49m, name)\n",
      "\n",
      "\u001b[0;31mAttributeError\u001b[0m: 'DataFrame' object has no attribute 'schema'"
     ]
    }
   ],
   "source": [
    "table.schema"
   ]
  },
  {
   "cell_type": "code",
   "execution_count": null,
   "metadata": {},
   "outputs": [
    {
     "data": {
      "text/plain": [
       "'/home/soda/rcappuzz/work/study-gittables'"
      ]
     },
     "metadata": {},
     "output_type": "display_data"
    }
   ],
   "source": [
    "pwd"
   ]
  },
  {
   "cell_type": "code",
   "execution_count": null,
   "metadata": {},
   "outputs": [],
   "source": [
    "root_dir = \"data/zenodo/tables/\"\n",
    "folder_name = \"allegro_con_spirito_tables_licensed\"\n",
    "tgt_folder = osp.join(root_dir, folder_name)\n"
   ]
  },
  {
   "cell_type": "code",
   "execution_count": null,
   "metadata": {},
   "outputs": [],
   "source": [
    "table = pq.read_table(osp.join(tgt_folder, 'incantesimo.parquet'))\n",
    "md = table.schema.metadata[b'gittables']"
   ]
  },
  {
   "cell_type": "code",
   "execution_count": null,
   "metadata": {},
   "outputs": [
    {
     "data": {
      "text/plain": [
       "b'{\"license\": \"GNU General Public License v3.0\", \"csv_url\": \"https://github.com/ICosmos34/Basi-di-Dati/blob/ab0792494c9db586c2634c35a644afeaada2f761/Dati/incantesimo.csv\", \"dtypes\": {\"1\": \"int64\", \"Abilit\\\\u00e0 in Prestito\": \"object\", \"1.1\": \"int64\", \"Si effettua una prova di Abilit\\\\u00e0 usando i gradi di un altro\": \"object\"}, \"number_rows\": 1772, \"number_columns\": 4, \"dtypes_percentages\": {\"int64\": 0.5, \"object\": 0.5}, \"dbpedia_syntactic_column_types\": {}, \"schema_syntactic_column_types\": {}, \"dbpedia_semantic_column_types\": {\"Si effettua una prova di Abilit\\\\u00e0 usando i gradi di un altro\": {\"cleaned_label\": \"e teatr id\", \"description\": null, \"domain\": [\"http://dbpedia.org/ontology/Film\"], \"id\": \"http://dbpedia.org/ontology/eTeatrId\", \"range\": [\"http://www.w3.org/2001/XMLSchema#string\"], \"superproperty\": null}}, \"dbpedia_semantic_similarities\": {\"Si effettua una prova di Abilit\\\\u00e0 usando i gradi di un altro\": 0.63}, \"schema_semantic_column_types\": {\"Si effettua una prova di Abilit\\\\u00e0 usando i gradi di un altro\": {\"id\": \"schema:cvdNumC19HOPats\", \"cleaned_label\": \"cvd num c 19 ho pats\", \"description\": \"numc19hopats - HOSPITAL ONSET: Patients hospitalized in an NHSN inpatient care location with onset of suspected or confirmed COVID-19 14 or more days after hospitalization.\", \"type\": \"rdf:Property\", \"domain\": [\"schema:CDCPMDRecord\"], \"range\": [\"schema:Number\"], \"superclasses\": null, \"superproperties\": null}}, \"schema_semantic_similarities\": {\"Si effettua una prova di Abilit\\\\u00e0 usando i gradi di un altro\": 0.564}, \"table_domain\": {\"schema_syntactic\": null, \"schema_semantic\": \"schema:CDCPMDRecord\", \"dbpedia_syntactic\": null, \"dbpedia_semantic\": \"http://dbpedia.org/ontology/Film\"}, \"anonymized_columns\": [], \"table_id\": 10}'"
      ]
     },
     "metadata": {},
     "output_type": "display_data"
    }
   ],
   "source": []
  }
 ],
 "metadata": {
  "kernelspec": {
   "display_name": "Python 3 (ipykernel)",
   "language": "python",
   "name": "python3"
  },
  "language_info": {
   "name": "python",
   "version": "3.10.6"
  },
  "orig_nbformat": 4
 },
 "nbformat": 4,
 "nbformat_minor": 2
}
