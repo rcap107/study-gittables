{
 "cells": [
  {
   "cell_type": "markdown",
   "metadata": {},
   "source": [
    "# Tokenize the table content and check the distribution of tokens\n",
    "\n",
    "Author: Riccardo Cappuzzo\n",
    "\n",
    "In this notebook and some associated scripts I'll tokenize the content of the \n",
    "tables in the corpus, then tally the tokens to find what the most frequent ones\n",
    "are. The idea is to figure out what are the most important tokens among all those\n",
    "identified on this real data corpus.\n",
    "\n",
    "I will test different strategies and libraries, including the functions in the \n",
    "`tokenizers` library, and the `CountVectorizer` transformer from `scikit-learn`. \n"
   ]
  },
  {
   "cell_type": "markdown",
   "metadata": {},
   "source": [
    "The first cell includes all the imports that are needed for this notebook. \n",
    "\n",
    "I'll start by importing some of the `normalizers` from the `tokenizer` library. \n",
    "\n",
    "More on `normalizers` in the [normalizers API page](https://huggingface.co/docs/tokenizers/v0.13.2/en/api/normalizers).\n",
    "These normalizers rely on [unicode normalization](https://unicode.org/reports/tr15/).\n"
   ]
  },
  {
   "cell_type": "code",
   "execution_count": 11,
   "metadata": {},
   "outputs": [],
   "source": [
    "from sklearn.feature_extraction.text import CountVectorizer\n",
    "\n",
    "from tokenizers.normalizers import NFD, StripAccents, Lowercase\n",
    "from tokenizers import normalizers, pre_tokenizers, Tokenizer\n",
    "from tokenizers.pre_tokenizers import Whitespace, Digits\n",
    "from tokenizers.models import BPE\n",
    "from tokenizers.trainers import BpeTrainer\n",
    "\n",
    "# For reformatting tables\n",
    "import pyarrow.parquet as pq\n",
    "import pyarrow.csv as pv\n",
    "from csv import QUOTE_NONE\n",
    "\n",
    "# For path and file operations\n",
    "import os.path as osp\n",
    "import os\n",
    "import glob\n",
    "from random import sample\n",
    "from joblib import Parallel, delayed\n",
    "\n",
    "# For progress bar\n",
    "from tqdm import tqdm\n",
    "\n",
    "# For plotting and operations\n",
    "import numpy as np\n",
    "import matplotlib.pyplot as plt\n",
    "import seaborn as sns\n",
    "import pandas as pd"
   ]
  },
  {
   "cell_type": "markdown",
   "metadata": {},
   "source": [
    "## Converting csv files into text files"
   ]
  },
  {
   "cell_type": "markdown",
   "metadata": {},
   "source": [
    "I'll start by \"globbing\" all the table paths. I'll have to first convert all the tables to \n",
    "text, then feed all the files to the tokenizer. After building the tokenizer, I'll go back and encode all tables again to \n",
    "find the most frequent tokens. "
   ]
  },
  {
   "cell_type": "code",
   "execution_count": 39,
   "metadata": {},
   "outputs": [],
   "source": [
    "# Creating a new dir for the dumped data\n",
    "dest_dir = \"data/zenodo/txt_tables\"\n",
    "os.makedirs(dest_dir, exist_ok=True)"
   ]
  },
  {
   "cell_type": "code",
   "execution_count": 20,
   "metadata": {},
   "outputs": [],
   "source": [
    "# Creating a list with the paths for all tables in the collection\n",
    "ls = glob.glob(\"data/zenodo/tables/*/*\")\n",
    "print(f\"Found {len(ls)} files.\")"
   ]
  },
  {
   "cell_type": "markdown",
   "metadata": {},
   "source": [
    "For debugging, I'll select a small sample of tables first."
   ]
  },
  {
   "cell_type": "code",
   "execution_count": 26,
   "metadata": {},
   "outputs": [],
   "source": [
    "ls_sample = sample(ls, k=100)"
   ]
  },
  {
   "cell_type": "markdown",
   "metadata": {},
   "source": [
    "I'll use joblib to parallelize the next steps."
   ]
  },
  {
   "cell_type": "code",
   "execution_count": 106,
   "metadata": {},
   "outputs": [],
   "source": [
    "def dump_table_to_csv(idx, table_path, dest_dir):\n",
    "    try:\n",
    "        tgt_dir, path = osp.split(osp.relpath(table_path, \"data/zenodo/tables/\"))\n",
    "        path = osp.join(dest_dir, tgt_dir, osp.basename(path) + \".txt\")\n",
    "        print(path)\n",
    "        if osp.exists(path):\n",
    "            return (idx, 0)\n",
    "        # print(path)\n",
    "        # tab = pq.read_table(table_path)\n",
    "        # tab.to_pandas().to_csv(path,  index=False, sep=\" \", escapechar=\" \", quoting=QUOTE_NONE)\n",
    "        return (idx, 0)\n",
    "    except Exception:\n",
    "        return (idx, 1)\n"
   ]
  },
  {
   "cell_type": "markdown",
   "metadata": {},
   "source": [
    "I don't really care about the result, since the conversion is the actual operation. Still, it's useful for tracking down those files that were not converted successfully for some \n",
    "reason. "
   ]
  },
  {
   "cell_type": "code",
   "execution_count": 108,
   "metadata": {},
   "outputs": [
    {
     "name": "stderr",
     "output_type": "stream",
     "text": [
      "                                           "
     ]
    },
    {
     "name": "stdout",
     "output_type": "stream",
     "text": [
      "data/zenodo/txt_tables/abstraction_tables_licensed/Designite_Microsoft.Phone.Tools.Deploy.Patched_DesignSmells.parquet.txt\n",
      "data/zenodo/txt_tables/abstraction_tables_licensed/Designite_VisualEffectPlayground_DesignSmells.parquet.txt\n",
      "data/zenodo/txt_tables/abstraction_tables_licensed/Designite_Reign.Input.API_DesignSmells.parquet.txt\n",
      "data/zenodo/txt_tables/abstraction_tables_licensed/08-09_18.parquet.txt\n",
      "data/zenodo/txt_tables/abstraction_tables_licensed/13-14_43.parquet.txt\n",
      "data/zenodo/txt_tables/abstraction_tables_licensed/Designite_Chinook_DesignSmells.parquet.txt\n",
      "data/zenodo/txt_tables/abstraction_tables_licensed/03-04_81.parquet.txt\n",
      "data/zenodo/txt_tables/abstraction_tables_licensed/Designite_squidtray_DesignSmells.parquet.txt\n",
      "data/zenodo/txt_tables/abstraction_tables_licensed/Designite_ThreadedCoreData_DesignSmells.parquet.txt\n",
      "data/zenodo/txt_tables/abstraction_tables_licensed/Designite_Helpmebot.Tests_DesignSmells.parquet.txt\n"
     ]
    },
    {
     "name": "stderr",
     "output_type": "stream",
     "text": [
      "\r"
     ]
    }
   ],
   "source": [
    "r = Parallel(n_jobs=1, verbose=0)(\n",
    "    delayed(dump_table_to_csv)(\n",
    "        idx, table_path, dest_dir) for idx, table_path in \n",
    "    tqdm(enumerate(ls[:10]), position=0, leave=False, total=len(ls)))"
   ]
  },
  {
   "cell_type": "code",
   "execution_count": 75,
   "metadata": {},
   "outputs": [
    {
     "name": "stdout",
     "output_type": "stream",
     "text": [
      "There are 1018624 results, and 562190 files in data/zenodo/txt_tables.\n"
     ]
    }
   ],
   "source": [
    "print(f\"There are {len(r)} results, and {len(os.listdir(dest_dir))} files in {dest_dir}.\")"
   ]
  },
  {
   "cell_type": "markdown",
   "metadata": {},
   "source": [
    "It looks like about half of the tables have been overwritten because of repeated filenames. \n",
    "\n",
    "Whoops. \n",
    "\n",
    "Time to run this again, this time placing each file in its folder. \n",
    "\n",
    "To reduce the cost of each operation, all folders are created before running the code, and \n",
    "then populated while iterating. "
   ]
  },
  {
   "cell_type": "code",
   "execution_count": 90,
   "metadata": {},
   "outputs": [],
   "source": [
    "for tab in glob.glob(\"data/zenodo/tables/*\"):\n",
    "    os.makedirs(osp.join(dest_dir, osp.basename(tab)), exist_ok=True)"
   ]
  },
  {
   "cell_type": "code",
   "execution_count": 104,
   "metadata": {},
   "outputs": [
    {
     "name": "stdout",
     "output_type": "stream",
     "text": [
      "data/zenodo/txt_tables/abstraction_tables_licensed/Designite_SqlLinq.UnitTests_DesignSmells.parquet.txt\n"
     ]
    }
   ],
   "source": [
    "table_path = ls_sample[0]\n",
    "tgt_dir, path = osp.split(osp.relpath(table_path, \"data/zenodo/tables/\"))\n",
    "path = osp.join(dest_dir, tgt_dir, osp.basename(path) + \".txt\")\n",
    "print(path)"
   ]
  },
  {
   "cell_type": "markdown",
   "metadata": {},
   "source": [
    "I exported the updated code to `src/convert_tables_to_text.py`, then ran it on drago3\n",
    "(around 45min runtime for the entire corpus)."
   ]
  },
  {
   "cell_type": "markdown",
   "metadata": {},
   "source": [
    "### Tokenizing with scikit-learn CountVectorizer"
   ]
  },
  {
   "cell_type": "code",
   "execution_count": 2,
   "metadata": {},
   "outputs": [
    {
     "data": {
      "text/plain": [
       "'/home/soda/rcappuzz/work/study-gittables/notebooks'"
      ]
     },
     "execution_count": 2,
     "metadata": {},
     "output_type": "execute_result"
    }
   ],
   "source": [
    "pwd"
   ]
  },
  {
   "cell_type": "code",
   "execution_count": 9,
   "metadata": {},
   "outputs": [],
   "source": [
    "corpus_files = glob.glob(\"../data/zenodo/txt_tables/*/*\")"
   ]
  },
  {
   "cell_type": "code",
   "execution_count": 27,
   "metadata": {},
   "outputs": [
    {
     "data": {
      "text/plain": [
       "<1x21796 sparse matrix of type '<class 'numpy.int64'>'\n",
       "\twith 21796 stored elements in Compressed Sparse Row format>"
      ]
     },
     "execution_count": 27,
     "metadata": {},
     "output_type": "execute_result"
    }
   ],
   "source": [
    "vectorizer = CountVectorizer(input=\"filename\", analyzer=\"word\", ngram_range=(2,2))\n",
    "target_table_path = \"data/zenodo/tables/allegro_con_spirito_tables_licensed/Aziende.parquet\"\n",
    "tab = pq.read_table(\"data/zenodo/tables/allegro_con_spirito_tables_licensed/Aziende.parquet\")\n",
    "tab.to_pandas().to_csv(\"tb.txt\",  index=False, sep=\" \", escapechar=\" \", quoting=QUOTE_NONE)"
   ]
  },
  {
   "cell_type": "code",
   "execution_count": 28,
   "metadata": {},
   "outputs": [],
   "source": [
    "X = vectorizer.fit_transform([\"tb.txt\"])\n",
    "words = vectorizer.get_feature_names_out()"
   ]
  },
  {
   "cell_type": "code",
   "execution_count": 29,
   "metadata": {},
   "outputs": [
    {
     "data": {
      "text/plain": [
       "array([['10022302399 filadelfio', '10071426446 manlio',\n",
       "        '10115459029 fiovo', ..., 'zuliani silvia', 'zullino famila',\n",
       "        'zza san'],\n",
       "       [1, 1, 1, ..., 1, 1, 1]], dtype=object)"
      ]
     },
     "execution_count": 29,
     "metadata": {},
     "output_type": "execute_result"
    }
   ],
   "source": [
    "counts = X.sum(axis=0)\n",
    "counts_array = np.squeeze(np.asarray(counts))\n",
    "\n",
    "word_counts = np.concatenate([words, counts_array], axis=0).reshape(2, -1)\n",
    "word_counts"
   ]
  },
  {
   "cell_type": "markdown",
   "metadata": {},
   "source": [
    "The `CountVectorizer` produced a collection of 2-value combinations, and tallied how often they occur. "
   ]
  },
  {
   "cell_type": "code",
   "execution_count": 46,
   "metadata": {},
   "outputs": [],
   "source": [
    "df = pd.DataFrame(word_counts.T, columns=[\"word\", \"count\"])"
   ]
  },
  {
   "cell_type": "markdown",
   "metadata": {},
   "source": [
    "Plotting the frequency of each n-gram. "
   ]
  },
  {
   "cell_type": "code",
   "execution_count": 75,
   "metadata": {},
   "outputs": [
    {
     "data": {
      "image/png": "[encoded data removed]",
      "text/plain": [
       "<Figure size 640x480 with 1 Axes>"
      ]
     },
     "metadata": {},
     "output_type": "display_data"
    }
   ],
   "source": [
    "fig, ax = plt.subplots()\n",
    "ax.plot(df.index, df[\"count\"].sort_values(ascending=False))\n",
    "ax.set_yscale(\"log\")"
   ]
  },
  {
   "cell_type": "markdown",
   "metadata": {},
   "source": [
    "Overall, this wasn't particularly useful"
   ]
  },
  {
   "cell_type": "markdown",
   "metadata": {},
   "source": [
    "## Tokenizing with the `tokenizers` library"
   ]
  },
  {
   "cell_type": "code",
   "execution_count": 3,
   "metadata": {},
   "outputs": [],
   "source": [
    "normalizer = normalizers.Sequence([NFD(), Lowercase(), StripAccents()])\n",
    "# Testing normalizer\n",
    "normalizer.normalize_str(\"Héllò hôw are ü?\")\n",
    "pre_tokenizer = pre_tokenizers.Sequence([Whitespace(), Digits()])\n",
    "# Testing pre-tokenizer\n",
    "pre_tokenizer.pre_tokenize_str(\"Call 911!\")\n",
    "# Creating the tokenizer with the assigned normalizer and pre-tokenizer\n",
    "tokenizer = Tokenizer(BPE())\n",
    "tokenizer.normalizer = normalizer\n",
    "tokenizer.pre_tokenizer = pre_tokenizer"
   ]
  },
  {
   "cell_type": "code",
   "execution_count": 20,
   "metadata": {},
   "outputs": [
    {
     "name": "stdout",
     "output_type": "stream",
     "text": [
      "/home/soda/rcappuzz/work/study-gittables\n"
     ]
    }
   ],
   "source": [
    "cd /home/soda/rcappuzz/work/study-gittables"
   ]
  },
  {
   "cell_type": "markdown",
   "metadata": {},
   "source": [
    "### Preparing a random table for tokenization"
   ]
  },
  {
   "cell_type": "code",
   "execution_count": 21,
   "metadata": {},
   "outputs": [],
   "source": [
    "tab = pq.read_table(\"data/zenodo/tables/allegro_con_spirito_tables_licensed/Aziende.parquet\")"
   ]
  },
  {
   "cell_type": "markdown",
   "metadata": {},
   "source": [
    "Saving the table to csv, removing all quotation and separators. `QUOTE_NONE` is \n",
    "used to remove all quote markers, `escapechar` is needed to avoid `csv` to throw\n",
    "an error. By using `sep=\" \"` and `escapechar=\" \"`, there is no quoting and \n",
    "all fields are separated by `\"  \"` (two spaces).  "
   ]
  },
  {
   "cell_type": "code",
   "execution_count": 22,
   "metadata": {},
   "outputs": [],
   "source": [
    "tab.to_pandas().to_csv(\"tb.txt\",  index=False, sep=\" \", escapechar=\" \", quoting=QUOTE_NONE)"
   ]
  },
  {
   "cell_type": "markdown",
   "metadata": {},
   "source": [
    "### Tokenizing the content of the table"
   ]
  },
  {
   "cell_type": "code",
   "execution_count": 24,
   "metadata": {},
   "outputs": [
    {
     "name": "stdout",
     "output_type": "stream",
     "text": [
      "\n",
      "\n",
      "\n"
     ]
    },
    {
     "data": {
      "text/plain": [
       "['i', 't', 's', 'cap', 'ta', 'in', 'jack', 'spar', 'ro', 'w']"
      ]
     },
     "execution_count": 24,
     "metadata": {},
     "output_type": "execute_result"
    }
   ],
   "source": [
    "trainer = BpeTrainer() # No special tokens for now\n",
    "tokenizer.train([\"tb.txt\"], trainer)\n",
    "# Testing the encoder on random letters\n",
    "tokenizer.encode(\"It's Captain Jack Sparrow\").tokens"
   ]
  },
  {
   "cell_type": "markdown",
   "metadata": {},
   "source": [
    "### Tokenizing *ALL THE TABLES*\n",
    "\n",
    "I actually used `tokenize_with_lib.py` to do so, rather than running the code in the notebook. The result is the file\n",
    "`data/tokenizer.json`, which I will be loading here. "
   ]
  },
  {
   "cell_type": "code",
   "execution_count": 13,
   "metadata": {},
   "outputs": [],
   "source": [
    "tokenizer = Tokenizer.from_file(\"../data/tokenizer.json\")"
   ]
  },
  {
   "cell_type": "markdown",
   "metadata": {},
   "source": [
    "The next step is tallying all tokens. I will be doing this in the `encode_with_lib.py`."
   ]
  },
  {
   "cell_type": "markdown",
   "metadata": {},
   "source": [
    "### Reading the counter"
   ]
  },
  {
   "cell_type": "code",
   "execution_count": 76,
   "metadata": {},
   "outputs": [],
   "source": [
    "import json"
   ]
  },
  {
   "cell_type": "code",
   "execution_count": 77,
   "metadata": {},
   "outputs": [],
   "source": [
    "global_counter = json.load(open(\"global_counter.json\", \"r\"))"
   ]
  },
  {
   "cell_type": "code",
   "execution_count": 78,
   "metadata": {},
   "outputs": [],
   "source": [
    "count_df = pd.DataFrame().from_dict(global_counter, orient=\"index\",columns=[\"count\"])"
   ]
  },
  {
   "cell_type": "code",
   "execution_count": 105,
   "metadata": {},
   "outputs": [],
   "source": [
    "reset = count_df.reset_index().sort_values([\"count\"], ascending=False)\n",
    "mean_count = reset[\"count\"].mean()\n",
    "median_count = reset[\"count\"].median()"
   ]
  },
  {
   "cell_type": "code",
   "execution_count": 190,
   "metadata": {},
   "outputs": [
    {
     "name": "stdout",
     "output_type": "stream",
     "text": [
      "174199.0341\n",
      "13674.0\n"
     ]
    }
   ],
   "source": [
    "print(mean_count)\n",
    "print(median_count)"
   ]
  },
  {
   "cell_type": "code",
   "execution_count": 117,
   "metadata": {},
   "outputs": [
    {
     "data": {
      "text/plain": [
       "<matplotlib.legend.Legend at 0x7f58eaaab0a0>"
      ]
     },
     "execution_count": 117,
     "metadata": {},
     "output_type": "execute_result"
    },
    {
     "data": {
      "image/png": "[encoded data removed]",
      "text/plain": [
       "<Figure size 640x480 with 1 Axes>"
      ]
     },
     "metadata": {},
     "output_type": "display_data"
    }
   ],
   "source": [
    "fig, ax = plt.subplots()\n",
    "ax.plot(np.arange(len(reset)), reset[\"count\"], label=\"Count\")\n",
    "ax.set_yscale(\"log\")\n",
    "ax.hlines(mean_count, 10, 30000, color=\"red\", label=\"Mean\")\n",
    "ax.hlines(median_count, 10, 30000, color=\"green\", label=\"Median\")\n",
    "plt.legend()"
   ]
  },
  {
   "cell_type": "code",
   "execution_count": 118,
   "metadata": {},
   "outputs": [],
   "source": [
    "more_frequent = reset.loc[reset[\"count\"] > median_count]"
   ]
  },
  {
   "cell_type": "code",
   "execution_count": 119,
   "metadata": {},
   "outputs": [
    {
     "data": {
      "text/plain": [
       "<matplotlib.legend.Legend at 0x7f58d8b91f90>"
      ]
     },
     "execution_count": 119,
     "metadata": {},
     "output_type": "execute_result"
    },
    {
     "data": {
      "image/png": "[encoded data removed]",
      "text/plain": [
       "<Figure size 640x480 with 1 Axes>"
      ]
     },
     "metadata": {},
     "output_type": "display_data"
    }
   ],
   "source": [
    "fig, ax = plt.subplots()\n",
    "ax.plot(np.arange(len(more_frequent)), more_frequent[\"count\"], label=\"Count\")\n",
    "ax.set_yscale(\"log\")\n",
    "ax.hlines(mean_count, 10, 30000, color=\"red\", label=\"Mean\")\n",
    "ax.hlines(median_count, 10, 30000, color=\"green\", label=\"Median\")\n",
    "plt.legend()"
   ]
  },
  {
   "cell_type": "code",
   "execution_count": 171,
   "metadata": {},
   "outputs": [],
   "source": [
    "top_200 = reset[:200][\"index\"]"
   ]
  },
  {
   "cell_type": "code",
   "execution_count": 151,
   "metadata": {},
   "outputs": [],
   "source": [
    "import re\n"
   ]
  },
  {
   "cell_type": "code",
   "execution_count": 167,
   "metadata": {},
   "outputs": [
    {
     "name": "stdout",
     "output_type": "stream",
     "text": [
      ". punct\n",
      "0 number\n",
      "- punct\n",
      "/ punct\n",
      ", punct\n",
      "the word\n",
      "a word\n",
      "1 number\n",
      "to word\n",
      "' punct\n"
     ]
    }
   ],
   "source": [
    "for val in top_200[:10]:\n",
    "    if match_words.match(val).group():\n",
    "        print(val, \"word\")\n",
    "    elif match_numbers.match(val).group():\n",
    "        print(val, \"number\")\n",
    "    else:\n",
    "        print(val, \"punct\")"
   ]
  },
  {
   "cell_type": "code",
   "execution_count": 168,
   "metadata": {},
   "outputs": [],
   "source": [
    "classes = np.zeros_like(top_200)"
   ]
  },
  {
   "cell_type": "code",
   "execution_count": 169,
   "metadata": {},
   "outputs": [],
   "source": [
    "def map_to_class(val):\n",
    "    match_words = re.compile(r\"[a-z]*\")\n",
    "    match_numbers = re.compile(r\"[0-9]*\")\n",
    "    if match_words.match(val).group():\n",
    "        return 0\n",
    "    elif match_numbers.match(val).group():\n",
    "        return 1\n",
    "    else:\n",
    "        return 2"
   ]
  },
  {
   "cell_type": "code",
   "execution_count": 195,
   "metadata": {},
   "outputs": [
    {
     "data": {
      "text/plain": [
       "[Text(0, 0.5, ''),\n",
       " Text(0, 24.5, ''),\n",
       " Text(0, 48.5, ''),\n",
       " Text(0, 72.5, ''),\n",
       " Text(0, 96.5, ''),\n",
       " Text(0, 120.5, ''),\n",
       " Text(0, 144.5, ''),\n",
       " Text(0, 168.5, ''),\n",
       " Text(0, 192.5, ''),\n",
       " Text(0, 216.5, ''),\n",
       " Text(0, 240.5, ''),\n",
       " Text(0, 264.5, ''),\n",
       " Text(0, 288.5, ''),\n",
       " Text(0, 312.5, ''),\n",
       " Text(0, 336.5, ''),\n",
       " Text(0, 360.5, ''),\n",
       " Text(0, 384.5, ''),\n",
       " Text(0, 408.5, ''),\n",
       " Text(0, 432.5, ''),\n",
       " Text(0, 456.5, ''),\n",
       " Text(0, 480.5, ''),\n",
       " Text(0, 504.5, ''),\n",
       " Text(0, 528.5, ''),\n",
       " Text(0, 552.5, ''),\n",
       " Text(0, 576.5, '')]"
      ]
     },
     "execution_count": 195,
     "metadata": {},
     "output_type": "execute_result"
    },
    {
     "data": {
      "image/png": "[encoded data removed]",
      "text/plain": [
       "<Figure size 640x480 with 2 Axes>"
      ]
     },
     "metadata": {},
     "output_type": "display_data"
    }
   ],
   "source": [
    "ax = sns.heatmap(reset[\"index\"][:].apply(map_to_class).values.reshape(-1, 50))\n",
    "ax.set_xticklabels(labels=[])\n",
    "ax.set_yticklabels(labels=[])\n"
   ]
  },
  {
   "cell_type": "code",
   "execution_count": 188,
   "metadata": {},
   "outputs": [
    {
     "data": {
      "text/html": [
       "<div>\n",
       "<style scoped>\n",
       "    .dataframe tbody tr th:only-of-type {\n",
       "        vertical-align: middle;\n",
       "    }\n",
       "\n",
       "    .dataframe tbody tr th {\n",
       "        vertical-align: top;\n",
       "    }\n",
       "\n",
       "    .dataframe thead th {\n",
       "        text-align: right;\n",
       "    }\n",
       "</style>\n",
       "<table border=\"1\" class=\"dataframe\">\n",
       "  <thead>\n",
       "    <tr style=\"text-align: right;\">\n",
       "      <th></th>\n",
       "      <th>index</th>\n",
       "      <th>count</th>\n",
       "    </tr>\n",
       "  </thead>\n",
       "  <tbody>\n",
       "    <tr>\n",
       "      <th>6111</th>\n",
       "      <td>䶰</td>\n",
       "      <td>1</td>\n",
       "    </tr>\n",
       "    <tr>\n",
       "      <th>14533</th>\n",
       "      <td>⬍</td>\n",
       "      <td>1</td>\n",
       "    </tr>\n",
       "    <tr>\n",
       "      <th>28091</th>\n",
       "      <td>󾌺</td>\n",
       "      <td>1</td>\n",
       "    </tr>\n",
       "    <tr>\n",
       "      <th>21327</th>\n",
       "      <td>⭒</td>\n",
       "      <td>1</td>\n",
       "    </tr>\n",
       "    <tr>\n",
       "      <th>2331</th>\n",
       "      <td>匸</td>\n",
       "      <td>1</td>\n",
       "    </tr>\n",
       "    <tr>\n",
       "      <th>18639</th>\n",
       "      <td>爫</td>\n",
       "      <td>1</td>\n",
       "    </tr>\n",
       "    <tr>\n",
       "      <th>18624</th>\n",
       "      <td>🠫</td>\n",
       "      <td>1</td>\n",
       "    </tr>\n",
       "    <tr>\n",
       "      <th>14653</th>\n",
       "      <td>𐑲</td>\n",
       "      <td>1</td>\n",
       "    </tr>\n",
       "    <tr>\n",
       "      <th>6306</th>\n",
       "      <td>鲭</td>\n",
       "      <td>1</td>\n",
       "    </tr>\n",
       "    <tr>\n",
       "      <th>11017</th>\n",
       "      <td>🠊</td>\n",
       "      <td>1</td>\n",
       "    </tr>\n",
       "    <tr>\n",
       "      <th>6287</th>\n",
       "      <td></td>\n",
       "      <td>1</td>\n",
       "    </tr>\n",
       "    <tr>\n",
       "      <th>25184</th>\n",
       "      <td>覂</td>\n",
       "      <td>1</td>\n",
       "    </tr>\n",
       "    <tr>\n",
       "      <th>14664</th>\n",
       "      <td>⭏</td>\n",
       "      <td>1</td>\n",
       "    </tr>\n",
       "    <tr>\n",
       "      <th>11020</th>\n",
       "      <td>𝡻</td>\n",
       "      <td>1</td>\n",
       "    </tr>\n",
       "    <tr>\n",
       "      <th>2296</th>\n",
       "      <td>洶</td>\n",
       "      <td>1</td>\n",
       "    </tr>\n",
       "    <tr>\n",
       "      <th>21434</th>\n",
       "      <td>臤</td>\n",
       "      <td>1</td>\n",
       "    </tr>\n",
       "    <tr>\n",
       "      <th>6256</th>\n",
       "      <td>冏</td>\n",
       "      <td>1</td>\n",
       "    </tr>\n",
       "    <tr>\n",
       "      <th>6255</th>\n",
       "      <td>🢩</td>\n",
       "      <td>1</td>\n",
       "    </tr>\n",
       "    <tr>\n",
       "      <th>11044</th>\n",
       "      <td>𝤇</td>\n",
       "      <td>1</td>\n",
       "    </tr>\n",
       "    <tr>\n",
       "      <th>14655</th>\n",
       "      <td>矞</td>\n",
       "      <td>1</td>\n",
       "    </tr>\n",
       "    <tr>\n",
       "      <th>6248</th>\n",
       "      <td>⯙</td>\n",
       "      <td>1</td>\n",
       "    </tr>\n",
       "    <tr>\n",
       "      <th>11059</th>\n",
       "      <td>𝨹</td>\n",
       "      <td>1</td>\n",
       "    </tr>\n",
       "    <tr>\n",
       "      <th>21414</th>\n",
       "      <td>镼</td>\n",
       "      <td>1</td>\n",
       "    </tr>\n",
       "    <tr>\n",
       "      <th>28171</th>\n",
       "      <td>鰇</td>\n",
       "      <td>1</td>\n",
       "    </tr>\n",
       "    <tr>\n",
       "      <th>18618</th>\n",
       "      <td>𐅀</td>\n",
       "      <td>1</td>\n",
       "    </tr>\n",
       "    <tr>\n",
       "      <th>14634</th>\n",
       "      <td>𞄰</td>\n",
       "      <td>1</td>\n",
       "    </tr>\n",
       "    <tr>\n",
       "      <th>6212</th>\n",
       "      <td>𝤍</td>\n",
       "      <td>1</td>\n",
       "    </tr>\n",
       "    <tr>\n",
       "      <th>18608</th>\n",
       "      <td>𝧟</td>\n",
       "      <td>1</td>\n",
       "    </tr>\n",
       "    <tr>\n",
       "      <th>11049</th>\n",
       "      <td>宍</td>\n",
       "      <td>1</td>\n",
       "    </tr>\n",
       "    <tr>\n",
       "      <th>11056</th>\n",
       "      <td>麹</td>\n",
       "      <td>1</td>\n",
       "    </tr>\n",
       "    <tr>\n",
       "      <th>20060</th>\n",
       "      <td>蠔</td>\n",
       "      <td>1</td>\n",
       "    </tr>\n",
       "    <tr>\n",
       "      <th>21417</th>\n",
       "      <td>慼</td>\n",
       "      <td>1</td>\n",
       "    </tr>\n",
       "    <tr>\n",
       "      <th>25209</th>\n",
       "      <td>脍</td>\n",
       "      <td>1</td>\n",
       "    </tr>\n",
       "    <tr>\n",
       "      <th>14565</th>\n",
       "      <td>hpfin</td>\n",
       "      <td>0</td>\n",
       "    </tr>\n",
       "    <tr>\n",
       "      <th>23337</th>\n",
       "      <td>161061276</td>\n",
       "      <td>0</td>\n",
       "    </tr>\n",
       "    <tr>\n",
       "      <th>14583</th>\n",
       "      <td>lu_tax_code_</td>\n",
       "      <td>0</td>\n",
       "    </tr>\n",
       "    <tr>\n",
       "      <th>26299</th>\n",
       "      <td>ntoskr</td>\n",
       "      <td>0</td>\n",
       "    </tr>\n",
       "    <tr>\n",
       "      <th>21749</th>\n",
       "      <td>batchnorm_fwd_</td>\n",
       "      <td>0</td>\n",
       "    </tr>\n",
       "    <tr>\n",
       "      <th>21044</th>\n",
       "      <td>ivacode</td>\n",
       "      <td>0</td>\n",
       "    </tr>\n",
       "    <tr>\n",
       "      <th>29232</th>\n",
       "      <td>handle_ptp_</td>\n",
       "      <td>0</td>\n",
       "    </tr>\n",
       "    <tr>\n",
       "      <th>15720</th>\n",
       "      <td>failontouch</td>\n",
       "      <td>0</td>\n",
       "    </tr>\n",
       "    <tr>\n",
       "      <th>2073</th>\n",
       "      <td>expctrl</td>\n",
       "      <td>0</td>\n",
       "    </tr>\n",
       "    <tr>\n",
       "      <th>8610</th>\n",
       "      <td>_features_linear</td>\n",
       "      <td>0</td>\n",
       "    </tr>\n",
       "    <tr>\n",
       "      <th>532</th>\n",
       "      <td>_add_fwd</td>\n",
       "      <td>0</td>\n",
       "    </tr>\n",
       "    <tr>\n",
       "      <th>18883</th>\n",
       "      <td>corehalf_</td>\n",
       "      <td>0</td>\n",
       "    </tr>\n",
       "    <tr>\n",
       "      <th>15792</th>\n",
       "      <td>161061275</td>\n",
       "      <td>0</td>\n",
       "    </tr>\n",
       "    <tr>\n",
       "      <th>25716</th>\n",
       "      <td>tov_pct</td>\n",
       "      <td>0</td>\n",
       "    </tr>\n",
       "    <tr>\n",
       "      <th>18675</th>\n",
       "      <td>g_pct</td>\n",
       "      <td>0</td>\n",
       "    </tr>\n",
       "    <tr>\n",
       "      <th>29593</th>\n",
       "      <td>indexfungorum</td>\n",
       "      <td>0</td>\n",
       "    </tr>\n",
       "    <tr>\n",
       "      <th>7883</th>\n",
       "      <td>failontouchobstacle</td>\n",
       "      <td>0</td>\n",
       "    </tr>\n",
       "  </tbody>\n",
       "</table>\n",
       "</div>"
      ],
      "text/plain": [
       "                     index  count\n",
       "6111                     䶰      1\n",
       "14533                    ⬍      1\n",
       "28091                    󾌺      1\n",
       "21327                    ⭒      1\n",
       "2331                     匸      1\n",
       "18639                    爫      1\n",
       "18624                    🠫      1\n",
       "14653                    𐑲      1\n",
       "6306                     鲭      1\n",
       "11017                    🠊      1\n",
       "6287                           1\n",
       "25184                    覂      1\n",
       "14664                    ⭏      1\n",
       "11020                    𝡻      1\n",
       "2296                     洶      1\n",
       "21434                    臤      1\n",
       "6256                     冏      1\n",
       "6255                     🢩      1\n",
       "11044                    𝤇      1\n",
       "14655                    矞      1\n",
       "6248                     ⯙      1\n",
       "11059                    𝨹      1\n",
       "21414                    镼      1\n",
       "28171                    鰇      1\n",
       "18618                    𐅀      1\n",
       "14634                    𞄰      1\n",
       "6212                     𝤍      1\n",
       "18608                    𝧟      1\n",
       "11049                    宍      1\n",
       "11056                    麹      1\n",
       "20060                    蠔      1\n",
       "21417                    慼      1\n",
       "25209                    脍      1\n",
       "14565                hpfin      0\n",
       "23337            161061276      0\n",
       "14583         lu_tax_code_      0\n",
       "26299               ntoskr      0\n",
       "21749       batchnorm_fwd_      0\n",
       "21044              ivacode      0\n",
       "29232          handle_ptp_      0\n",
       "15720          failontouch      0\n",
       "2073               expctrl      0\n",
       "8610      _features_linear      0\n",
       "532               _add_fwd      0\n",
       "18883            corehalf_      0\n",
       "15792            161061275      0\n",
       "25716              tov_pct      0\n",
       "18675                g_pct      0\n",
       "29593        indexfungorum      0\n",
       "7883   failontouchobstacle      0"
      ]
     },
     "execution_count": 188,
     "metadata": {},
     "output_type": "execute_result"
    }
   ],
   "source": [
    "reset[-50:]"
   ]
  },
  {
   "cell_type": "code",
   "execution_count": null,
   "metadata": {},
   "outputs": [],
   "source": []
  }
 ],
 "metadata": {
  "kernelspec": {
   "display_name": "Python 3.10.6 ('base')",
   "language": "python",
   "name": "python3"
  },
  "language_info": {
   "codemirror_mode": {
    "name": "ipython",
    "version": 3
   },
   "file_extension": ".py",
   "mimetype": "text/x-python",
   "name": "python",
   "nbconvert_exporter": "python",
   "pygments_lexer": "ipython3",
   "version": "3.10.6"
  },
  "orig_nbformat": 4,
  "vscode": {
   "interpreter": {
    "hash": "f99d4ae4ae28a32448f23655352e00c7fc7935560deea327d535ee5f52193445"
   }
  }
 },
 "nbformat": 4,
 "nbformat_minor": 2
}
