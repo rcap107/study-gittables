{
 "cells": [
  {
   "cell_type": "markdown",
   "metadata": {},
   "source": [
    "Author: Riccardo Cappuzzo\n",
    "\n",
    "In this notebook I will be looking into the tables included in the \n",
    "[Gittables repository](https://gittables.github.io). "
   ]
  },
  {
   "cell_type": "code",
   "execution_count": 31,
   "metadata": {},
   "outputs": [],
   "source": [
    "import os\n",
    "import os.path as osp\n",
    "import pandas as pd\n",
    "from zipfile import ZipFile"
   ]
  },
  {
   "cell_type": "code",
   "execution_count": 13,
   "metadata": {},
   "outputs": [
    {
     "name": "stdout",
     "output_type": "stream",
     "text": [
      "/home/soda/rcappuzz/work/study-gittables\n"
     ]
    }
   ],
   "source": [
    "cd ~/work/study-gittables"
   ]
  },
  {
   "cell_type": "markdown",
   "metadata": {},
   "source": [
    "Printing info on all files in the folder."
   ]
  },
  {
   "cell_type": "code",
   "execution_count": 28,
   "metadata": {},
   "outputs": [
    {
     "name": "stdout",
     "output_type": "stream",
     "text": [
      "abstraction_tables_licensed.zip.....................................................179234KB\n",
      "allegro_con_spirito_tables_licensed.zip...............................................3269KB\n",
      "attrition_rate_tables_licensed.zip....................................................3915KB\n",
      "beats_per_minute_tables_licensed.zip.................................................11270KB\n",
      "beauty_sleep_tables_licensed.zip.....................................................27162KB\n",
      "bits_per_second_tables_licensed.zip..................................................81960KB\n",
      "cardiac_output_tables_licensed.zip....................................................4945KB\n",
      "cease_tables_licensed.zip............................................................24603KB\n",
      "centripetal_acceleration_tables_licensed.zip..........................................6498KB\n",
      "channel_capacity_tables_licensed.zip.................................................27547KB\n",
      "clotting_time_tables_licensed.zip......................................................944KB\n",
      "command_processing_overhead_time_tables_licensed.zip..................................5644KB\n",
      "count_per_minute_tables_licensed.zip.................................................32910KB\n",
      "crime_rate_tables_licensed.zip.......................................................72484KB\n",
      "data_rate_tables_licensed.zip.......................................................728429KB\n",
      "dead_air_tables_licensed.zip........................................................131863KB\n",
      "dogwatch_tables_licensed.zip..........................................................3228KB\n",
      "dose_rate_tables_licensed.zip........................................................20559KB\n",
      "dwarf_tables_licensed.zip............................................................28308KB\n",
      "episcopate_tables_licensed.zip........................................................2912KB\n",
      "erythrocyte_sedimentation_rate_tables_licensed.zip....................................9529KB\n",
      "escape_velocity_tables_licensed.zip..................................................32556KB\n",
      "fertile_period_tables_licensed.zip....................................................2427KB\n",
      "graveyard_watch_tables_licensed.zip...................................................2757KB\n",
      "growth_rate_tables_licensed.zip.....................................................234424KB\n",
      "half_life_tables_licensed.zip.......................................................421461KB\n",
      "halftime_tables_licensed.zip..........................................................2521KB\n",
      "heterotroph_tables_licensed.zip.......................................................1459KB\n",
      "hypervelocity_tables_licensed.zip.....................................................4218KB\n",
      "id_tables_licensed.zip.............................................................1943744KB\n",
      "in_time_tables_licensed.zip.........................................................246517KB\n",
      "incubation_period_tables_licensed.zip................................................10403KB\n",
      "indiction_tables_licensed.zip..........................................................823KB\n",
      "inflation_rate_tables_licensed.zip...................................................49221KB\n",
      "interim_tables_licensed.zip..........................................................20025KB\n",
      "kilohertz_tables_licensed.zip.........................................................5896KB\n",
      "kilometers_per_hour_tables_licensed.zip...............................................1864KB\n",
      "lapse_tables_licensed.zip.............................................................9604KB\n",
      "last_gasp_tables_licensed.zip.........................................................7364KB\n",
      "latent_period_tables_licensed.zip.....................................................3650KB\n",
      "lead_time_tables_licensed.zip.......................................................396017KB\n",
      "living_thing_tables_licensed.zip....................................................432376KB\n",
      "lunitidal_interval_tables_licensed.zip...................................................0KB\n",
      "meno_mosso_tables_licensed.zip........................................................2319KB\n",
      "menstrual_cycle_tables_licensed.zip....................................................891KB\n",
      "metabolic_rate_tables_licensed.zip....................................................5441KB\n",
      "miles_per_hour_tables_licensed.zip...................................................36015KB\n",
      "multistage_tables_licensed.zip........................................................1069KB\n",
      "musth_tables_licensed.zip.............................................................1791KB\n",
      "neonatal_mortality_tables_licensed.zip................................................2084KB\n",
      "object_tables_licensed.zip..........................................................747801KB\n",
      "orbit_period_tables_licensed.zip.....................................................12743KB\n",
      "organism_tables_licensed.zip.........................................................26281KB\n",
      "parent_tables_licensed.zip.........................................................1186785KB\n",
      "peacetime_tables_licensed.zip..........................................................583KB\n",
      "peculiar_velocity_tables_licensed.zip..................................................978KB\n",
      "physical_entity_tables_licensed.zip..................................................35913KB\n",
      "processing_time_tables_licensed.zip.................................................309027KB\n",
      "question_time_tables_licensed.zip...................................................755539KB\n",
      "quick_time_tables_licensed.zip......................................................416279KB\n",
      "radial_pulse_tables_licensed.zip.......................................................536KB\n",
      "radial_velocity_tables_licensed.zip...................................................1041KB\n",
      "rainy_day_tables_licensed.zip........................................................16185KB\n",
      "rate_of_return_tables_licensed.zip..................................................189028KB\n",
      "reaction_time_tables_licensed.zip...................................................157316KB\n",
      "real_time_tables_licensed.zip......................................................1028361KB\n",
      "relaxation_time_tables_licensed.zip..................................................14513KB\n",
      "respiratory_rate_tables_licensed.zip.................................................22673KB\n",
      "return_on_invested_capital_tables_licensed.zip.......................................12430KB\n",
      "revolutions_per_minute_tables_licensed.zip............................................1811KB\n",
      "rotational_latency_tables_licensed.zip...............................................17988KB\n",
      "running_time_tables_licensed.zip....................................................588020KB\n",
      "safe_period_tables_licensed.zip.....................................................116007KB\n",
      "sampling_frequency_tables_licensed.zip................................................6844KB\n",
      "sampling_rate_tables_licensed.zip....................................................39975KB\n",
      "secretory_phase_tables_licensed.zip...................................................5543KB\n",
      "seek_time_tables_licensed.zip.......................................................219861KB\n",
      "shiva_tables_licensed.zip............................................................15341KB\n",
      "show_time_tables_licensed.zip.......................................................873247KB\n",
      "solar_constant_tables_licensed.zip...................................................18188KB\n",
      "speed_of_light_tables_licensed.zip..................................................161340KB\n",
      "split_shift_tables_licensed.zip......................................................34666KB\n",
      "steerageway_tables_licensed.zip.........................................................93KB\n",
      "stopping_point_tables_licensed.zip...................................................70048KB\n",
      "terminal_velocity_tables_licensed.zip................................................12515KB\n",
      "terminus_ad_quem_tables_licensed.zip..................................................3364KB\n",
      "then_tables_licensed.zip...........................................................1239306KB\n",
      "thing_tables_licensed.zip..........................................................1162767KB\n",
      "time-out_tables_licensed.zip..........................................................1237KB\n",
      "time_interval_tables_licensed.zip....................................................86144KB\n",
      "time_slot_tables_licensed.zip........................................................29305KB\n",
      "track-to-track_seek_time_tables_licensed.zip.............................................0KB\n",
      "usance_tables_licensed.zip............................................................2790KB\n",
      "wartime_tables_licensed.zip...........................................................5291KB\n",
      "whole_tables_licensed.zip...........................................................938742KB\n"
     ]
    }
   ],
   "source": [
    "data_folder = \"data/zenodo/\"\n",
    "for filename in sorted(os.listdir(data_folder)):\n",
    "    fpath = osp.join(data_folder, filename)\n",
    "    file_size = osp.getsize(fpath)\n",
    "    print(f\"{filename:.<80}{file_size/1024:.>10.0f}KB\")\n"
   ]
  },
  {
   "cell_type": "code",
   "execution_count": null,
   "metadata": {},
   "outputs": [],
   "source": []
  },
  {
   "cell_type": "code",
   "execution_count": null,
   "metadata": {},
   "outputs": [],
   "source": []
  },
  {
   "cell_type": "code",
   "execution_count": 59,
   "metadata": {},
   "outputs": [],
   "source": [
    "this_file = \"channel_capacity.zip\"\n",
    "basename, ext = osp.splitext(this_file)\n",
    "tgt_folder = osp.join(data_folder, basename)\n",
    "os.makedirs(tgt_folder, exist_ok=True) \n",
    "fpath = osp.join(data_folder, this_file)\n",
    "with ZipFile(fpath) as myzip:\n",
    "    myzip.extractall(tgt_folder)"
   ]
  },
  {
   "cell_type": "code",
   "execution_count": 64,
   "metadata": {},
   "outputs": [
    {
     "data": {
      "text/html": [
       "<div>\n",
       "<style scoped>\n",
       "    .dataframe tbody tr th:only-of-type {\n",
       "        vertical-align: middle;\n",
       "    }\n",
       "\n",
       "    .dataframe tbody tr th {\n",
       "        vertical-align: top;\n",
       "    }\n",
       "\n",
       "    .dataframe thead th {\n",
       "        text-align: right;\n",
       "    }\n",
       "</style>\n",
       "<table border=\"1\" class=\"dataframe\">\n",
       "  <thead>\n",
       "    <tr style=\"text-align: right;\">\n",
       "      <th></th>\n",
       "      <th>﻿title</th>\n",
       "      <th>text</th>\n",
       "    </tr>\n",
       "  </thead>\n",
       "  <tbody>\n",
       "    <tr>\n",
       "      <th>0</th>\n",
       "      <td>Fears for T N pension after talks</td>\n",
       "      <td>Unions representing workers at Turner   Newall...</td>\n",
       "    </tr>\n",
       "    <tr>\n",
       "      <th>1</th>\n",
       "      <td>The Race is On: Second Private Team Sets Launc...</td>\n",
       "      <td>SPACE.com - TORONTO, Canada -- A second team o...</td>\n",
       "    </tr>\n",
       "    <tr>\n",
       "      <th>2</th>\n",
       "      <td>Ky. Company Wins Grant to Study Peptides</td>\n",
       "      <td>A company founded by a chemistry researcher ...</td>\n",
       "    </tr>\n",
       "    <tr>\n",
       "      <th>3</th>\n",
       "      <td>Prediction Unit Helps Forecast Wildfires</td>\n",
       "      <td>It's barely dawn when Mike Fitzpatrick start...</td>\n",
       "    </tr>\n",
       "    <tr>\n",
       "      <th>4</th>\n",
       "      <td>Calif. Aims to Limit Farm-Related Smog</td>\n",
       "      <td>Southern California's smog-fighting agency w...</td>\n",
       "    </tr>\n",
       "    <tr>\n",
       "      <th>...</th>\n",
       "      <td>...</td>\n",
       "      <td>...</td>\n",
       "    </tr>\n",
       "    <tr>\n",
       "      <th>155</th>\n",
       "      <td>Future Doctors, Crossing Borders</td>\n",
       "      <td>Students at the Mount Sinai School of Medicine...</td>\n",
       "    </tr>\n",
       "    <tr>\n",
       "      <th>156</th>\n",
       "      <td>Oil Sets New Record   47 on Iraq Threat</td>\n",
       "      <td>LONDON (Reuters) - Oil prices surged to a new...</td>\n",
       "    </tr>\n",
       "    <tr>\n",
       "      <th>157</th>\n",
       "      <td>Greek sprinters quit to end Games scandal</td>\n",
       "      <td>ATHENS (Reuters) - Greece   two top athletes h...</td>\n",
       "    </tr>\n",
       "    <tr>\n",
       "      <th>158</th>\n",
       "      <td>Phelps Eyes Fourth Gold</td>\n",
       "      <td>ATHENS (Reuters) - A weary Michael Phelps tar...</td>\n",
       "    </tr>\n",
       "    <tr>\n",
       "      <th>159</th>\n",
       "      <td>Israel Kills 5 in Attempt to Assassinate Hamas...</td>\n",
       "      <td>GAZA (Reuters) - A senior Hamas leader surviv...</td>\n",
       "    </tr>\n",
       "  </tbody>\n",
       "</table>\n",
       "<p>160 rows × 2 columns</p>\n",
       "</div>"
      ],
      "text/plain": [
       "                                                ﻿title  \\\n",
       "0                    Fears for T N pension after talks   \n",
       "1    The Race is On: Second Private Team Sets Launc...   \n",
       "2           Ky. Company Wins Grant to Study Peptides     \n",
       "3           Prediction Unit Helps Forecast Wildfires     \n",
       "4             Calif. Aims to Limit Farm-Related Smog     \n",
       "..                                                 ...   \n",
       "155                   Future Doctors, Crossing Borders   \n",
       "156            Oil Sets New Record   47 on Iraq Threat   \n",
       "157          Greek sprinters quit to end Games scandal   \n",
       "158                            Phelps Eyes Fourth Gold   \n",
       "159  Israel Kills 5 in Attempt to Assassinate Hamas...   \n",
       "\n",
       "                                                  text  \n",
       "0    Unions representing workers at Turner   Newall...  \n",
       "1    SPACE.com - TORONTO, Canada -- A second team o...  \n",
       "2      A company founded by a chemistry researcher ...  \n",
       "3      It's barely dawn when Mike Fitzpatrick start...  \n",
       "4      Southern California's smog-fighting agency w...  \n",
       "..                                                 ...  \n",
       "155  Students at the Mount Sinai School of Medicine...  \n",
       "156   LONDON (Reuters) - Oil prices surged to a new...  \n",
       "157  ATHENS (Reuters) - Greece   two top athletes h...  \n",
       "158   ATHENS (Reuters) - A weary Michael Phelps tar...  \n",
       "159   GAZA (Reuters) - A senior Hamas leader surviv...  \n",
       "\n",
       "[160 rows x 2 columns]"
      ]
     },
     "execution_count": 64,
     "metadata": {},
     "output_type": "execute_result"
    }
   ],
   "source": [
    "df = pd.read_parquet(osp.join(tgt_folder, 'example_3.parquet'), columns=None)\n",
    "df"
   ]
  },
  {
   "cell_type": "code",
   "execution_count": null,
   "metadata": {},
   "outputs": [],
   "source": []
  }
 ],
 "metadata": {
  "kernelspec": {
   "display_name": "Python 3 (ipykernel)",
   "language": "python",
   "name": "python3"
  },
  "language_info": {
   "codemirror_mode": {
    "name": "ipython",
    "version": 3
   },
   "file_extension": ".py",
   "mimetype": "text/x-python",
   "name": "python",
   "nbconvert_exporter": "python",
   "pygments_lexer": "ipython3",
   "version": "3.10.6"
  },
  "orig_nbformat": 4,
  "vscode": {
   "interpreter": {
    "hash": "f99d4ae4ae28a32448f23655352e00c7fc7935560deea327d535ee5f52193445"
   }
  }
 },
 "nbformat": 4,
 "nbformat_minor": 2
}
