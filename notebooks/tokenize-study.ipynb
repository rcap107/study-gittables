{
 "cells": [
  {
   "cell_type": "markdown",
   "metadata": {},
   "source": [
    "# Tokenize the table content and check the distribution of tokens\n",
    "\n",
    "Author: Riccardo Cappuzzo\n",
    "\n",
    "In this notebook and some associated scripts I'll tokenize the content of the \n",
    "tables in the corpus, then tally the tokens to find what the most frequent ones\n",
    "are. The idea is to figure out what are the most important tokens among all those\n",
    "identified on this real data corpus.\n",
    "\n",
    "I will test different strategies and libraries, including the functions in the \n",
    "`tokenizers` library, and the `CountVectorizer` transformer from `scikit-learn`. \n"
   ]
  },
  {
   "cell_type": "markdown",
   "metadata": {},
   "source": [
    "The first cell includes all the imports that are needed for this notebook. \n",
    "\n",
    "I'll start by importing some of the `normalizers` from the `tokenizer` library. \n",
    "\n",
    "More on `normalizers` in the [normalizers API page](https://huggingface.co/docs/tokenizers/v0.13.2/en/api/normalizers).\n",
    "These normalizers rely on [unicode normalization](https://unicode.org/reports/tr15/).\n"
   ]
  },
  {
   "cell_type": "code",
   "execution_count": 11,
   "metadata": {},
   "outputs": [],
   "source": [
    "from sklearn.feature_extraction.text import CountVectorizer\n",
    "\n",
    "from tokenizers.normalizers import NFD, StripAccents, Lowercase\n",
    "from tokenizers import normalizers, pre_tokenizers, Tokenizer\n",
    "from tokenizers.pre_tokenizers import Whitespace, Digits\n",
    "from tokenizers.models import BPE\n",
    "from tokenizers.trainers import BpeTrainer\n",
    "\n",
    "# For reformatting tables\n",
    "import pyarrow.parquet as pq\n",
    "import pyarrow.csv as pv\n",
    "from csv import QUOTE_NONE\n",
    "\n",
    "# For path and file operations\n",
    "import os.path as osp\n",
    "import os\n",
    "import glob\n",
    "from random import sample\n",
    "from joblib import Parallel, delayed\n",
    "\n",
    "# For progress bar\n",
    "from tqdm import tqdm\n",
    "\n",
    "# For plotting and operations\n",
    "import numpy as np\n",
    "import matplotlib.pyplot as plt\n",
    "import seaborn as sns\n",
    "import pandas as pd"
   ]
  },
  {
   "cell_type": "markdown",
   "metadata": {},
   "source": [
    "## Converting csv files into text files"
   ]
  },
  {
   "cell_type": "markdown",
   "metadata": {},
   "source": [
    "I'll start by \"globbing\" all the table paths. I'll have to first convert all the tables to \n",
    "text, then feed all the files to the tokenizer. After building the tokenizer, I'll go back and encode all tables again to \n",
    "find the most frequent tokens. "
   ]
  },
  {
   "cell_type": "code",
   "execution_count": 39,
   "metadata": {},
   "outputs": [],
   "source": [
    "# Creating a new dir for the dumped data\n",
    "dest_dir = \"data/zenodo/txt_tables\"\n",
    "os.makedirs(dest_dir, exist_ok=True)"
   ]
  },
  {
   "cell_type": "code",
   "execution_count": 20,
   "metadata": {},
   "outputs": [],
   "source": [
    "# Creating a list with the paths for all tables in the collection\n",
    "ls = glob.glob(\"data/zenodo/tables/*/*\")\n",
    "print(f\"Found {len(ls)} files.\")"
   ]
  },
  {
   "cell_type": "markdown",
   "metadata": {},
   "source": [
    "For debugging, I'll select a small sample of tables first."
   ]
  },
  {
   "cell_type": "code",
   "execution_count": 26,
   "metadata": {},
   "outputs": [],
   "source": [
    "ls_sample = sample(ls, k=100)"
   ]
  },
  {
   "cell_type": "markdown",
   "metadata": {},
   "source": [
    "I'll use joblib to parallelize the next steps."
   ]
  },
  {
   "cell_type": "code",
   "execution_count": 106,
   "metadata": {},
   "outputs": [],
   "source": [
    "def dump_table_to_csv(idx, table_path, dest_dir):\n",
    "    try:\n",
    "        tgt_dir, path = osp.split(osp.relpath(table_path, \"data/zenodo/tables/\"))\n",
    "        path = osp.join(dest_dir, tgt_dir, osp.basename(path) + \".txt\")\n",
    "        print(path)\n",
    "        if osp.exists(path):\n",
    "            return (idx, 0)\n",
    "        # print(path)\n",
    "        # tab = pq.read_table(table_path)\n",
    "        # tab.to_pandas().to_csv(path,  index=False, sep=\" \", escapechar=\" \", quoting=QUOTE_NONE)\n",
    "        return (idx, 0)\n",
    "    except Exception:\n",
    "        return (idx, 1)\n"
   ]
  },
  {
   "cell_type": "markdown",
   "metadata": {},
   "source": [
    "I don't really care about the result, since the conversion is the actual operation. Still, it's useful for tracking down those files that were not converted successfully for some \n",
    "reason. "
   ]
  },
  {
   "cell_type": "code",
   "execution_count": 108,
   "metadata": {},
   "outputs": [
    {
     "name": "stderr",
     "output_type": "stream",
     "text": [
      "                                           "
     ]
    },
    {
     "name": "stdout",
     "output_type": "stream",
     "text": [
      "data/zenodo/txt_tables/abstraction_tables_licensed/Designite_Microsoft.Phone.Tools.Deploy.Patched_DesignSmells.parquet.txt\n",
      "data/zenodo/txt_tables/abstraction_tables_licensed/Designite_VisualEffectPlayground_DesignSmells.parquet.txt\n",
      "data/zenodo/txt_tables/abstraction_tables_licensed/Designite_Reign.Input.API_DesignSmells.parquet.txt\n",
      "data/zenodo/txt_tables/abstraction_tables_licensed/08-09_18.parquet.txt\n",
      "data/zenodo/txt_tables/abstraction_tables_licensed/13-14_43.parquet.txt\n",
      "data/zenodo/txt_tables/abstraction_tables_licensed/Designite_Chinook_DesignSmells.parquet.txt\n",
      "data/zenodo/txt_tables/abstraction_tables_licensed/03-04_81.parquet.txt\n",
      "data/zenodo/txt_tables/abstraction_tables_licensed/Designite_squidtray_DesignSmells.parquet.txt\n",
      "data/zenodo/txt_tables/abstraction_tables_licensed/Designite_ThreadedCoreData_DesignSmells.parquet.txt\n",
      "data/zenodo/txt_tables/abstraction_tables_licensed/Designite_Helpmebot.Tests_DesignSmells.parquet.txt\n"
     ]
    },
    {
     "name": "stderr",
     "output_type": "stream",
     "text": [
      "\r"
     ]
    }
   ],
   "source": [
    "r = Parallel(n_jobs=1, verbose=0)(\n",
    "    delayed(dump_table_to_csv)(\n",
    "        idx, table_path, dest_dir) for idx, table_path in \n",
    "    tqdm(enumerate(ls[:10]), position=0, leave=False, total=len(ls)))"
   ]
  },
  {
   "cell_type": "code",
   "execution_count": 75,
   "metadata": {},
   "outputs": [
    {
     "name": "stdout",
     "output_type": "stream",
     "text": [
      "There are 1018624 results, and 562190 files in data/zenodo/txt_tables.\n"
     ]
    }
   ],
   "source": [
    "print(f\"There are {len(r)} results, and {len(os.listdir(dest_dir))} files in {dest_dir}.\")"
   ]
  },
  {
   "cell_type": "markdown",
   "metadata": {},
   "source": [
    "It looks like about half of the tables have been overwritten because of repeated filenames. \n",
    "\n",
    "Whoops. \n",
    "\n",
    "Time to run this again, this time placing each file in its folder. \n",
    "\n",
    "To reduce the cost of each operation, all folders are created before running the code, and \n",
    "then populated while iterating. "
   ]
  },
  {
   "cell_type": "code",
   "execution_count": 90,
   "metadata": {},
   "outputs": [],
   "source": [
    "for tab in glob.glob(\"data/zenodo/tables/*\"):\n",
    "    os.makedirs(osp.join(dest_dir, osp.basename(tab)), exist_ok=True)"
   ]
  },
  {
   "cell_type": "code",
   "execution_count": 104,
   "metadata": {},
   "outputs": [
    {
     "name": "stdout",
     "output_type": "stream",
     "text": [
      "data/zenodo/txt_tables/abstraction_tables_licensed/Designite_SqlLinq.UnitTests_DesignSmells.parquet.txt\n"
     ]
    }
   ],
   "source": [
    "table_path = ls_sample[0]\n",
    "tgt_dir, path = osp.split(osp.relpath(table_path, \"data/zenodo/tables/\"))\n",
    "path = osp.join(dest_dir, tgt_dir, osp.basename(path) + \".txt\")\n",
    "print(path)"
   ]
  },
  {
   "cell_type": "markdown",
   "metadata": {},
   "source": [
    "I exported the updated code to `src/convert_tables_to_text.py`, then ran it on drago3\n",
    "(around 45min runtime for the entire corpus)."
   ]
  },
  {
   "cell_type": "markdown",
   "metadata": {},
   "source": [
    "### Tokenizing with scikit-learn CountVectorizer"
   ]
  },
  {
   "cell_type": "code",
   "execution_count": 2,
   "metadata": {},
   "outputs": [
    {
     "data": {
      "text/plain": [
       "'/home/soda/rcappuzz/work/study-gittables/notebooks'"
      ]
     },
     "execution_count": 2,
     "metadata": {},
     "output_type": "execute_result"
    }
   ],
   "source": [
    "pwd"
   ]
  },
  {
   "cell_type": "code",
   "execution_count": 9,
   "metadata": {},
   "outputs": [],
   "source": [
    "corpus_files = glob.glob(\"../data/zenodo/txt_tables/*/*\")"
   ]
  },
  {
   "cell_type": "code",
   "execution_count": 27,
   "metadata": {},
   "outputs": [
    {
     "data": {
      "text/plain": [
       "<1x21796 sparse matrix of type '<class 'numpy.int64'>'\n",
       "\twith 21796 stored elements in Compressed Sparse Row format>"
      ]
     },
     "execution_count": 27,
     "metadata": {},
     "output_type": "execute_result"
    }
   ],
   "source": [
    "vectorizer = CountVectorizer(input=\"filename\", analyzer=\"word\", ngram_range=(2,2))\n",
    "target_table_path = \"data/zenodo/tables/allegro_con_spirito_tables_licensed/Aziende.parquet\"\n",
    "tab = pq.read_table(\"data/zenodo/tables/allegro_con_spirito_tables_licensed/Aziende.parquet\")\n",
    "tab.to_pandas().to_csv(\"tb.txt\",  index=False, sep=\" \", escapechar=\" \", quoting=QUOTE_NONE)\n",
    "\n"
   ]
  },
  {
   "cell_type": "code",
   "execution_count": 28,
   "metadata": {},
   "outputs": [],
   "source": [
    "\n",
    "X = vectorizer.fit_transform([\"tb.txt\"])\n",
    "words = vectorizer.get_feature_names_out()\n"
   ]
  },
  {
   "cell_type": "code",
   "execution_count": 29,
   "metadata": {},
   "outputs": [
    {
     "data": {
      "text/plain": [
       "array([['10022302399 filadelfio', '10071426446 manlio',\n",
       "        '10115459029 fiovo', ..., 'zuliani silvia', 'zullino famila',\n",
       "        'zza san'],\n",
       "       [1, 1, 1, ..., 1, 1, 1]], dtype=object)"
      ]
     },
     "execution_count": 29,
     "metadata": {},
     "output_type": "execute_result"
    }
   ],
   "source": [
    "counts = X.sum(axis=0)\n",
    "counts_array = np.squeeze(np.asarray(counts))\n",
    "\n",
    "word_counts = np.concatenate([words, counts_array], axis=0).reshape(2, -1)\n",
    "word_counts"
   ]
  },
  {
   "cell_type": "code",
   "execution_count": 46,
   "metadata": {},
   "outputs": [],
   "source": [
    "df = pd.DataFrame(word_counts.T, columns=[\"word\", \"count\"])"
   ]
  },
  {
   "cell_type": "code",
   "execution_count": 47,
   "metadata": {},
   "outputs": [
    {
     "data": {
      "text/html": [
       "<div>\n",
       "<style scoped>\n",
       "    .dataframe tbody tr th:only-of-type {\n",
       "        vertical-align: middle;\n",
       "    }\n",
       "\n",
       "    .dataframe tbody tr th {\n",
       "        vertical-align: top;\n",
       "    }\n",
       "\n",
       "    .dataframe thead th {\n",
       "        text-align: right;\n",
       "    }\n",
       "</style>\n",
       "<table border=\"1\" class=\"dataframe\">\n",
       "  <thead>\n",
       "    <tr style=\"text-align: right;\">\n",
       "      <th></th>\n",
       "      <th>word</th>\n",
       "      <th>count</th>\n",
       "    </tr>\n",
       "  </thead>\n",
       "  <tbody>\n",
       "    <tr>\n",
       "      <th>0</th>\n",
       "      <td>10022302399 filadelfio</td>\n",
       "      <td>1</td>\n",
       "    </tr>\n",
       "    <tr>\n",
       "      <th>1</th>\n",
       "      <td>10071426446 manlio</td>\n",
       "      <td>1</td>\n",
       "    </tr>\n",
       "    <tr>\n",
       "      <th>2</th>\n",
       "      <td>10115459029 fiovo</td>\n",
       "      <td>1</td>\n",
       "    </tr>\n",
       "    <tr>\n",
       "      <th>3</th>\n",
       "      <td>10116174185 eliseno</td>\n",
       "      <td>1</td>\n",
       "    </tr>\n",
       "    <tr>\n",
       "      <th>4</th>\n",
       "      <td>10191811412 rido</td>\n",
       "      <td>1</td>\n",
       "    </tr>\n",
       "    <tr>\n",
       "      <th>...</th>\n",
       "      <td>...</td>\n",
       "      <td>...</td>\n",
       "    </tr>\n",
       "    <tr>\n",
       "      <th>21791</th>\n",
       "      <td>zulcal72q11k069c trieste</td>\n",
       "      <td>1</td>\n",
       "    </tr>\n",
       "    <tr>\n",
       "      <th>21792</th>\n",
       "      <td>zuliani ferruccio</td>\n",
       "      <td>1</td>\n",
       "    </tr>\n",
       "    <tr>\n",
       "      <th>21793</th>\n",
       "      <td>zuliani silvia</td>\n",
       "      <td>1</td>\n",
       "    </tr>\n",
       "    <tr>\n",
       "      <th>21794</th>\n",
       "      <td>zullino famila</td>\n",
       "      <td>1</td>\n",
       "    </tr>\n",
       "    <tr>\n",
       "      <th>21795</th>\n",
       "      <td>zza san</td>\n",
       "      <td>1</td>\n",
       "    </tr>\n",
       "  </tbody>\n",
       "</table>\n",
       "<p>21796 rows × 2 columns</p>\n",
       "</div>"
      ],
      "text/plain": [
       "                           word count\n",
       "0        10022302399 filadelfio     1\n",
       "1            10071426446 manlio     1\n",
       "2             10115459029 fiovo     1\n",
       "3           10116174185 eliseno     1\n",
       "4              10191811412 rido     1\n",
       "...                         ...   ...\n",
       "21791  zulcal72q11k069c trieste     1\n",
       "21792         zuliani ferruccio     1\n",
       "21793            zuliani silvia     1\n",
       "21794            zullino famila     1\n",
       "21795                   zza san     1\n",
       "\n",
       "[21796 rows x 2 columns]"
      ]
     },
     "execution_count": 47,
     "metadata": {},
     "output_type": "execute_result"
    }
   ],
   "source": [
    "df"
   ]
  },
  {
   "cell_type": "code",
   "execution_count": 75,
   "metadata": {},
   "outputs": [
    {
     "data": {
      "image/png": "[encoded data removed]",
      "text/plain": [
       "<Figure size 640x480 with 1 Axes>"
      ]
     },
     "metadata": {},
     "output_type": "display_data"
    }
   ],
   "source": [
    "fig, ax = plt.subplots()\n",
    "ax.plot(df.index, df[\"count\"].sort_values(ascending=False))\n",
    "ax.set_yscale(\"log\")"
   ]
  },
  {
   "cell_type": "code",
   "execution_count": null,
   "metadata": {},
   "outputs": [],
   "source": []
  },
  {
   "cell_type": "markdown",
   "metadata": {},
   "source": [
    "## Tokenizing with the `tokenizers` library"
   ]
  },
  {
   "cell_type": "code",
   "execution_count": 3,
   "metadata": {},
   "outputs": [],
   "source": [
    "normalizer = normalizers.Sequence([NFD(), Lowercase(), StripAccents()])\n",
    "# Testing normalizer\n",
    "normalizer.normalize_str(\"Héllò hôw are ü?\")\n",
    "pre_tokenizer = pre_tokenizers.Sequence([Whitespace(), Digits()])\n",
    "# Testing pre-tokenizer\n",
    "pre_tokenizer.pre_tokenize_str(\"Call 911!\")\n",
    "# Creating the tokenizer with the assigned normalizer and pre-tokenizer\n",
    "tokenizer = Tokenizer(BPE())\n",
    "tokenizer.normalizer = normalizer\n",
    "tokenizer.pre_tokenizer = pre_tokenizer"
   ]
  },
  {
   "cell_type": "code",
   "execution_count": 20,
   "metadata": {},
   "outputs": [
    {
     "name": "stdout",
     "output_type": "stream",
     "text": [
      "/home/soda/rcappuzz/work/study-gittables\n"
     ]
    }
   ],
   "source": [
    "cd /home/soda/rcappuzz/work/study-gittables"
   ]
  },
  {
   "cell_type": "markdown",
   "metadata": {},
   "source": [
    "### Preparing a random table for tokenization"
   ]
  },
  {
   "cell_type": "code",
   "execution_count": 21,
   "metadata": {},
   "outputs": [],
   "source": [
    "tab = pq.read_table(\"data/zenodo/tables/allegro_con_spirito_tables_licensed/Aziende.parquet\")"
   ]
  },
  {
   "cell_type": "markdown",
   "metadata": {},
   "source": [
    "Saving the table to csv, removing all quotation and separators. `QUOTE_NONE` is \n",
    "used to remove all quote markers, `escapechar` is needed to avoid `csv` to throw\n",
    "an error. By using `sep=\" \"` and `escapechar=\" \"`, there is no quoting and \n",
    "all fields are separated by `\"  \"` (two spaces).  "
   ]
  },
  {
   "cell_type": "code",
   "execution_count": 22,
   "metadata": {},
   "outputs": [],
   "source": [
    "tab.to_pandas().to_csv(\"tb.txt\",  index=False, sep=\" \", escapechar=\" \", quoting=QUOTE_NONE)"
   ]
  },
  {
   "cell_type": "markdown",
   "metadata": {},
   "source": [
    "### Tokenizing the content of the table"
   ]
  },
  {
   "cell_type": "code",
   "execution_count": 24,
   "metadata": {},
   "outputs": [
    {
     "name": "stdout",
     "output_type": "stream",
     "text": [
      "\n",
      "\n",
      "\n"
     ]
    },
    {
     "data": {
      "text/plain": [
       "['i', 't', 's', 'cap', 'ta', 'in', 'jack', 'spar', 'ro', 'w']"
      ]
     },
     "execution_count": 24,
     "metadata": {},
     "output_type": "execute_result"
    }
   ],
   "source": [
    "trainer = BpeTrainer() # No special tokens for now\n",
    "tokenizer.train([\"tb.txt\"], trainer)\n",
    "# Testing the encoder on random letters\n",
    "tokenizer.encode(\"It's Captain Jack Sparrow\").tokens"
   ]
  },
  {
   "cell_type": "markdown",
   "metadata": {},
   "source": [
    "### Tokenizing *ALL THE TABLES*\n",
    "\n",
    "I actually used `tokenize_with_lib.py` to do so, rather than running the code in the notebook. The result is the file\n",
    "`data/tokenizer.json`, which I will be loading here. "
   ]
  },
  {
   "cell_type": "code",
   "execution_count": 13,
   "metadata": {},
   "outputs": [],
   "source": [
    "tokenizer = Tokenizer.from_file(\"../data/tokenizer.json\")"
   ]
  },
  {
   "cell_type": "markdown",
   "metadata": {},
   "source": [
    "The next step is tallying all tokens. I will be doing this in the `encode_with_lib.py`."
   ]
  }
 ],
 "metadata": {
  "kernelspec": {
   "display_name": "Python 3.10.6 ('base')",
   "language": "python",
   "name": "python3"
  },
  "language_info": {
   "codemirror_mode": {
    "name": "ipython",
    "version": 3
   },
   "file_extension": ".py",
   "mimetype": "text/x-python",
   "name": "python",
   "nbconvert_exporter": "python",
   "pygments_lexer": "ipython3",
   "version": "3.10.6"
  },
  "orig_nbformat": 4,
  "vscode": {
   "interpreter": {
    "hash": "f99d4ae4ae28a32448f23655352e00c7fc7935560deea327d535ee5f52193445"
   }
  }
 },
 "nbformat": 4,
 "nbformat_minor": 2
}
